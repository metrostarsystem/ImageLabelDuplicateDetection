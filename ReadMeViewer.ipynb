{
 "cells": [
  {
   "cell_type": "markdown",
   "metadata": {},
   "source": [
    "# Fraudulent Image Detections\n",
    "This notebook is used to demonstrate our capabilities to identify images which are closly related and could constitute a fradulent image label or identify a trademark violation of an organzation's IP.\n",
    "\n",
    "\n",
    "# Configure and run the Notebook in AWS Sagemaker\n",
    "\n",
    "- From the SageMaker Homepage select the notebook instance and then \"Open Jupyter\"\n",
    "\n",
    "<img style=\"float: left;\" src=\"readMeImages/SageMaker_Homepage.png\"/>\n",
    "\n",
    "\n",
    "- Inside the Jupyter Notebook \"Upload\" LabelValidation.ipynb, LabelValidationFunc.py, FraudLabelConfig.json, and all images from TestData directory. \n",
    "- NOTE: Be certain all images are uploaded under a TestData directory in you SageMake Jupyter instance.\n",
    "\n",
    "- Also, you may need to select 'Upload' button twice to upload your files properly.\n",
    "\n",
    "- As an easier method, zip the existing TestData directory and upload the zip file\n",
    "\n",
    "\n",
    "<img style=\"float: left;\" src=\"readMeImages/lblFraudUpload.png\"/>\n",
    "\n",
    "<br/><br/>\n",
    "\n",
    "\n",
    "\n",
    "\n",
    "\n",
    "\n",
    "# Unzip TestData.zip in a SageMaker terminal\n",
    "\n",
    "- Open a terminal\n",
    "- Go to the terminal, cd to SageMaker, unzip the labelImages - `unzip labelImages.zip`\n",
    "- Click to open LabelValidation.ipynb\n",
    "\n",
    "\n",
    "<img style=\"float: left;\" src=\"readMeImages/lblImgTerm.png\"/>\n",
    "<br/>\n",
    "\n",
    "\n",
    "\n",
    "# When in  Jupyter Notebook, use the \"conda_tensorflow_p36\" kernel\n",
    "- If UI asks to select Kernel upon opening notebook, enter X, and cancel\n",
    "- Make certain that you are using the correct kernel \"conda_tensorflow_p36\" kernel\n",
    "\n",
    "<img style=\"float: left;\" src=\"readMeImages/lblImgEnv.png\"/>\n",
    "<br/><br/>\n",
    "\n",
    "<img style=\"float: left;\" src=\"readMeImages/Tensorflow_Kernel_Version.png\"/>\n",
    "<br/><br/>\n",
    "\n"
   ]
  },
  {
   "cell_type": "code",
   "execution_count": null,
   "metadata": {},
   "outputs": [],
   "source": []
  }
 ],
 "metadata": {
  "kernelspec": {
   "display_name": "Python 3",
   "language": "python",
   "name": "python3"
  },
  "language_info": {
   "codemirror_mode": {
    "name": "ipython",
    "version": 3
   },
   "file_extension": ".py",
   "mimetype": "text/x-python",
   "name": "python",
   "nbconvert_exporter": "python",
   "pygments_lexer": "ipython3",
   "version": "3.7.0"
  }
 },
 "nbformat": 4,
 "nbformat_minor": 2
}
